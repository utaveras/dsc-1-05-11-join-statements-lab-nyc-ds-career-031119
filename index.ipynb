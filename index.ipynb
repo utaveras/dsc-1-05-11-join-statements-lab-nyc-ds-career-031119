{
 "cells": [
  {
   "cell_type": "markdown",
   "metadata": {},
   "source": [
    "# Join Statements - Lab\n",
    "\n",
    "## Introduction\n",
    "\n",
    "In this lab, you'll practice your knowledge on Join statements.\n",
    "\n",
    "## Objectives\n",
    "\n",
    "You will be able to:\n",
    "- Write queries that make use of various types of Joins\n",
    "- Join tables using foreign keys"
   ]
  },
  {
   "cell_type": "markdown",
   "metadata": {},
   "source": [
    "## CRM Schema\n",
    "\n",
    "In almost all cases, rather then just working with a single table we will typically need data from multiple tables. \n",
    "Doing this requires the use of **joins ** using shared columns from the two tables. \n",
    "\n",
    "In this lab, we'll use the same Customer Relationship Management (CRM) database we used in our lecture before!\n",
    "<img src='Database-Schema.png' width=550>"
   ]
  },
  {
   "cell_type": "markdown",
   "metadata": {},
   "source": [
    "## Connecting to the Database\n",
    "Import the necessary packages and connect to the database **data.sqlite**."
   ]
  },
  {
   "cell_type": "code",
   "execution_count": 1,
   "metadata": {},
   "outputs": [],
   "source": [
    "#Your code here\n",
    "import sqlite3\n",
    "conn = sqlite3.connect('data.sqlite')\n",
    "c = conn.cursor()"
   ]
  },
  {
   "cell_type": "markdown",
   "metadata": {},
   "source": [
    "## Display the names of all the employees in Boston."
   ]
  },
  {
   "cell_type": "code",
   "execution_count": 2,
   "metadata": {},
   "outputs": [
    {
     "data": {
      "text/plain": [
       "[('Julie', 'Firrelli'), ('Steve', 'Patterson')]"
      ]
     },
     "execution_count": 2,
     "metadata": {},
     "output_type": "execute_result"
    }
   ],
   "source": [
    "#Your code here\n",
    "c.execute(' SELECT e.firstNAME, e.lastNAME FROM employees e JOIN offices o USING(officeCode) WHERE o.city = \"Boston\"; ').fetchall()"
   ]
  },
  {
   "cell_type": "markdown",
   "metadata": {},
   "source": [
    "## Do any offices have no employees?"
   ]
  },
  {
   "cell_type": "code",
   "execution_count": 3,
   "metadata": {},
   "outputs": [
    {
     "data": {
      "text/plain": [
       "[]"
      ]
     },
     "execution_count": 3,
     "metadata": {},
     "output_type": "execute_result"
    }
   ],
   "source": [
    "#Your code here\n",
    "c.execute('SELECT o.city FROM offices o LEFT JOIN employees e USING(officeCode) where e.officeCode IS NULL;').fetchall()\n"
   ]
  },
  {
   "cell_type": "markdown",
   "metadata": {},
   "source": [
    "## Write 3 Questions of your own and answer them"
   ]
  },
  {
   "cell_type": "code",
   "execution_count": 4,
   "metadata": {},
   "outputs": [],
   "source": [
    "# Answers will vary\n",
    "# 1. Which Customer has placed the most orders?\n",
    "# 2. Which Customer has sent in the most money in payments?\n",
    "# 3. Which office has the most employees?"
   ]
  },
  {
   "cell_type": "code",
   "execution_count": 5,
   "metadata": {},
   "outputs": [
    {
     "data": {
      "text/plain": [
       "[(1,)]"
      ]
     },
     "execution_count": 5,
     "metadata": {},
     "output_type": "execute_result"
    }
   ],
   "source": [
    "c.execute('SELECT COUNT(*) FROM customers where customerNumber = \"141\";').fetchall()\n",
    "# c.execute('SELECT * FROM customers c where c.CustomerName = \"Kelly\\'s Gift Shop\"').fetchall()"
   ]
  },
  {
   "cell_type": "code",
   "execution_count": 6,
   "metadata": {},
   "outputs": [
    {
     "data": {
      "text/plain": [
       "[('Euro+ Shopping Channel', '141', 26),\n",
       " ('Mini Gifts Distributors Ltd.', '124', 17),\n",
       " ('Australian Collectors, Co.', '114', 5),\n",
       " ('Danish Wholesale Imports', '145', 5),\n",
       " ('Dragon Souveniers, Ltd.', '148', 5),\n",
       " ('Down Under Souveniers, Inc', '323', 5),\n",
       " ('Reims Collectables', '353', 5),\n",
       " ('La Rochelle Gifts', '119', 4),\n",
       " ('Baane Mini Imports', '121', 4),\n",
       " ('Blauer See Auto, Co.', '128', 4)]"
      ]
     },
     "execution_count": 6,
     "metadata": {},
     "output_type": "execute_result"
    }
   ],
   "source": [
    "# Your code here\n",
    "c.execute('SELECT c.customerName, o.customerNumber, COUNT(o.orderNumber) FROM orders o INNER JOIN customers c ON c.CustomerNumber = CAST(o.CustomerNumber AS INT) GROUP BY o.customerNumber ORDER BY 3 DESC LIMIT 10;').fetchall()"
   ]
  },
  {
   "cell_type": "code",
   "execution_count": 7,
   "metadata": {},
   "outputs": [
    {
     "data": {
      "text/plain": [
       "[('Euro+ Shopping Channel', 141, 715738.98),\n",
       " ('Mini Gifts Distributors Ltd.', 124, 584188.24),\n",
       " ('Australian Collectors, Co.', 114, 180585.07),\n",
       " ('Muscle Machine Inc', 151, 177913.95),\n",
       " ('Dragon Souveniers, Ltd.', 148, 156251.03)]"
      ]
     },
     "execution_count": 7,
     "metadata": {},
     "output_type": "execute_result"
    }
   ],
   "source": [
    "# Your code here\n",
    "c.execute('SELECT c.customerName, CAST(p.customerNumber AS INT), round(Sum(p.amount), 2) FROM payments p INNER JOIN customers c ON CAST(c.customerNumber AS INT) = CAST(p.customerNumber as INT) GROUP BY CAST(p.customerNumber as INT) ORDER BY 3 DESC LIMIT 5;').fetchall()"
   ]
  },
  {
   "cell_type": "code",
   "execution_count": 8,
   "metadata": {},
   "outputs": [
    {
     "data": {
      "text/plain": [
       "[('San Francisco', 6),\n",
       " ('Paris', 5),\n",
       " ('Sydney', 4),\n",
       " ('Boston', 2),\n",
       " ('NYC', 2),\n",
       " ('Tokyo', 2),\n",
       " ('London', 2)]"
      ]
     },
     "execution_count": 8,
     "metadata": {},
     "output_type": "execute_result"
    }
   ],
   "source": [
    "# Your code here\n",
    "c.execute('SELECT o.City, count(e.EmployeeNumber) FROM offices o INNER JOIN employees e on cast(o.officeCode AS INT) = cast(e.officeCode AS INT) GROUP BY o.officeCode ORDER BY 2 DESC;').fetchall()"
   ]
  },
  {
   "cell_type": "markdown",
   "metadata": {},
   "source": [
    "## Level Up: Display the names of each product each employee has sold."
   ]
  },
  {
   "cell_type": "code",
   "execution_count": 11,
   "metadata": {},
   "outputs": [
    {
     "data": {
      "text/plain": [
       "[('Peter', 'Marsh', '1612', '1969 Harley Davidson Ultimate Chopper'),\n",
       " ('Martin', 'Gerard', '1702', '1952 Alpine Renault 1300'),\n",
       " ('Mami', 'Nishi', '1621', '1996 Moto Guzzi 1100i'),\n",
       " ('Mami', 'Nishi', '1621', '2003 Harley-Davidson Eagle Drag Bike'),\n",
       " ('Martin', 'Gerard', '1702', '1972 Alfa Romeo GTA'),\n",
       " ('Martin', 'Gerard', '1702', '1962 LanciaA Delta 16V'),\n",
       " ('Martin', 'Gerard', '1702', '1968 Ford Mustang'),\n",
       " ('Martin', 'Gerard', '1702', '2001 Ferrari Enzo'),\n",
       " ('Martin', 'Gerard', '1702', '1958 Setra Bus'),\n",
       " ('Peter', 'Marsh', '1612', '2002 Suzuki XREO'),\n",
       " ('Martin', 'Gerard', '1702', '1969 Corvair Monza'),\n",
       " ('Martin', 'Gerard', '1702', '1968 Dodge Charger'),\n",
       " ('Martin', 'Gerard', '1702', '1969 Ford Falcon'),\n",
       " ('Martin', 'Gerard', '1702', '1970 Plymouth Hemi Cuda'),\n",
       " ('Martin', 'Gerard', '1702', '1957 Chevy Pickup'),\n",
       " ('Martin', 'Gerard', '1702', '1969 Dodge Charger'),\n",
       " ('Martin', 'Gerard', '1702', '1940 Ford Pickup Truck'),\n",
       " ('Martin', 'Gerard', '1702', '1993 Mazda RX-7'),\n",
       " ('Peter', 'Marsh', '1612', '1937 Lincoln Berline'),\n",
       " ('Martin', 'Gerard', '1702', '1936 Mercedes-Benz 500K Special Roadster'),\n",
       " ('Peter', 'Marsh', '1612', '1965 Aston Martin DB5'),\n",
       " ('Mami', 'Nishi', '1621', '1980s Black Hawk Helicopter'),\n",
       " ('Martin', 'Gerard', '1702', '1917 Grand Touring Sedan'),\n",
       " ('Martin', 'Gerard', '1702', '1948 Porsche 356-A Roadster'),\n",
       " ('Martin', 'Gerard', '1702', '1995 Honda Civic'),\n",
       " ('Martin', 'Gerard', '1702', '1998 Chrysler Plymouth Prowler'),\n",
       " ('Martin', 'Gerard', '1702', '1911 Ford Town Car'),\n",
       " ('Martin', 'Gerard', '1702', '1964 Mercedes Tour Bus'),\n",
       " ('Martin', 'Gerard', '1702', '1932 Model A Ford J-Coupe'),\n",
       " ('Martin', 'Gerard', '1702', '1926 Ford Fire Engine'),\n",
       " ('Mami', 'Nishi', '1621', 'P-51-D Mustang'),\n",
       " ('Mami', 'Nishi', '1621', '1936 Harley Davidson El Knucklehead'),\n",
       " ('Martin', 'Gerard', '1702', '1928 Mercedes-Benz SSK'),\n",
       " ('Martin', 'Gerard', '1702', '1999 Indy 500 Monte Carlo SS'),\n",
       " ('Martin', 'Gerard', '1702', '1913 Ford Model T Speedster'),\n",
       " ('Martin', 'Gerard', '1702', '1934 Ford V8 Coupe'),\n",
       " ('Martin', 'Gerard', '1702', '1999 Yamaha Speed Boat'),\n",
       " ('Martin', 'Gerard', '1702', '18th Century Vintage Horse Carriage'),\n",
       " ('Martin', 'Gerard', '1702', '1903 Ford Model A'),\n",
       " ('Martin', 'Gerard', '1702', '1992 Ferrari 360 Spider red'),\n",
       " ('Martin', 'Gerard', '1702', 'Collectable Wooden Train'),\n",
       " ('Martin', 'Gerard', '1702', '1969 Dodge Super Bee'),\n",
       " ('Martin', 'Gerard', '1702', '1917 Maxwell Touring Car'),\n",
       " ('Martin', 'Gerard', '1702', '1976 Ford Gran Torino'),\n",
       " ('Martin', 'Gerard', '1702', '1948 Porsche Type 356 Roadster'),\n",
       " ('Mami', 'Nishi', '1621', '1957 Vespa GS150'),\n",
       " ('Martin', 'Gerard', '1702', '1941 Chevrolet Special Deluxe Cabriolet'),\n",
       " ('Mami', 'Nishi', '1621', '1970 Triumph Spitfire'),\n",
       " ('Peter', 'Marsh', '1612', '1932 Alfa Romeo 8C2300 Spider Sport'),\n",
       " ('Martin', 'Gerard', '1702', '1904 Buick Runabout'),\n",
       " ('Martin', 'Gerard', '1702', '1940s Ford truck'),\n",
       " ('Martin', 'Gerard', '1702', '1939 Cadillac Limousine'),\n",
       " ('Martin', 'Gerard', '1702', '1957 Corvette Convertible'),\n",
       " ('Peter', 'Marsh', '1612', '1957 Ford Thunderbird'),\n",
       " ('Peter', 'Marsh', '1612', '1970 Chevy Chevelle SS 454'),\n",
       " ('Martin', 'Gerard', '1702', '1970 Dodge Coronet'),\n",
       " ('Mami', 'Nishi', '1621', '1997 BMW R 1100 S'),\n",
       " ('Peter', 'Marsh', '1612', '1966 Shelby Cobra 427 S/C'),\n",
       " ('Mami', 'Nishi', '1621', '1928 British Royal Navy Airplane'),\n",
       " ('Martin', 'Gerard', '1702', '1939 Chevrolet Deluxe Coupe'),\n",
       " ('Martin', 'Gerard', '1702', '1960 BSA Gold Star DBD34'),\n",
       " ('Martin', 'Gerard', '1702', '18th century schooner'),\n",
       " ('Martin', 'Gerard', '1702', '1938 Cadillac V-16 Presidential Limousine'),\n",
       " ('Martin', 'Gerard', '1702', '1962 Volkswagen Microbus'),\n",
       " ('Mami', 'Nishi', '1621', '1982 Ducati 900 Monster'),\n",
       " ('Peter', 'Marsh', '1612', '1949 Jaguar XK 120'),\n",
       " ('Martin', 'Gerard', '1702', '1958 Chevy Corvette Limited Edition'),\n",
       " ('Mami', 'Nishi', '1621', '1900s Vintage Bi-Plane'),\n",
       " ('Peter', 'Marsh', '1612', '1952 Citroen-15CV'),\n",
       " ('Martin', 'Gerard', '1702', '1982 Lamborghini Diablo'),\n",
       " ('Martin', 'Gerard', '1702', '1912 Ford Model T Delivery Wagon'),\n",
       " ('Peter', 'Marsh', '1612', '1969 Chevrolet Camaro Z28'),\n",
       " ('Martin', 'Gerard', '1702', '1971 Alpine Renault 1600s'),\n",
       " ('Mami', 'Nishi', '1621', '1937 Horch 930V Limousine'),\n",
       " ('Peter', 'Marsh', '1612', '2002 Chevy Corvette'),\n",
       " ('Martin', 'Gerard', '1702', '1940 Ford Delivery Sedan'),\n",
       " ('Martin', 'Gerard', '1702', '1956 Porsche 356A Coupe'),\n",
       " ('Mami', 'Nishi', '1621', 'Corsair F4U ( Bird Cage)'),\n",
       " ('Martin', 'Gerard', '1702', '1936 Mercedes Benz 500k Roadster'),\n",
       " ('Martin', 'Gerard', '1702', '1992 Porsche Cayenne Turbo Silver'),\n",
       " ('Martin', 'Gerard', '1702', '1936 Chrysler Airflow'),\n",
       " ('Martin', 'Gerard', '1702', '1900s Vintage Tri-Plane'),\n",
       " ('Martin', 'Gerard', '1702', '1961 Chevrolet Impala'),\n",
       " ('Martin', 'Gerard', '1702', '1980’s GM Manhattan Express'),\n",
       " ('Martin', 'Gerard', '1702', '1997 BMW F650 ST'),\n",
       " ('Mami', 'Nishi', '1621', '1982 Ducati 996 R'),\n",
       " ('Martin', 'Gerard', '1702', '1954 Greyhound Scenicruiser'),\n",
       " ('Martin', 'Gerard', '1702', \"1950's Chicago Surface Lines Streetcar\"),\n",
       " ('Martin', 'Gerard', '1702', '1996 Peterbilt 379 Stake Bed with Outrigger'),\n",
       " ('Martin', 'Gerard', '1702', '1928 Ford Phaeton Deluxe'),\n",
       " ('Mami', 'Nishi', '1621', '1974 Ducati 350 Mk3 Desmo'),\n",
       " ('Martin', 'Gerard', '1702', '1930 Buick Marquette Phaeton'),\n",
       " ('Martin', 'Gerard', '1702', 'Diamond T620 Semi-Skirted Tanker'),\n",
       " ('Mami', 'Nishi', '1621', '1962 City of Detroit Streetcar'),\n",
       " ('Mami', 'Nishi', '1621', '2002 Yamaha YZR M1'),\n",
       " ('Martin', 'Gerard', '1702', 'The Schooner Bluenose'),\n",
       " ('Martin', 'Gerard', '1702', 'American Airlines: B767-300'),\n",
       " ('Martin', 'Gerard', '1702', 'The Mayflower'),\n",
       " ('Martin', 'Gerard', '1702', 'HMS Bounty'),\n",
       " ('Martin', 'Gerard', '1702', 'America West Airlines B757-200'),\n",
       " ('Martin', 'Gerard', '1702', 'The USS Constitution Ship'),\n",
       " ('Martin', 'Gerard', '1702', '1982 Camaro Z28'),\n",
       " ('Martin', 'Gerard', '1702', 'ATA: B757-300'),\n",
       " ('Mami', 'Nishi', '1621', 'F/A 18 Hornet 1/72'),\n",
       " ('Martin', 'Gerard', '1702', 'The Titanic'),\n",
       " ('Martin', 'Gerard', '1702', 'The Queen Mary'),\n",
       " ('Mami', 'Nishi', '1621', 'American Airlines: MD-11S'),\n",
       " ('Martin', 'Gerard', '1702', 'Boeing X-32A JSF'),\n",
       " ('Martin', 'Gerard', '1702', 'Pont Yacht')]"
      ]
     },
     "execution_count": 11,
     "metadata": {},
     "output_type": "execute_result"
    }
   ],
   "source": [
    "# Your code here\n",
    "c.execute('''\n",
    "SELECT DISTINCT e.firstName, e.lastName, e.EmployeeNumber,pdt.ProductName \n",
    "FROM employees e           \n",
    "JOIN customers c on e.EmployeeNumber = c.salesRepEmployeeNumber\n",
    "JOIN orders o USING(customerNumber)\n",
    "JOIN orderdetails od USING(orderNumber)\n",
    "JOIN products pdt USING(productCode)\n",
    "GROUP BY pdt.productCode;\n",
    "''').fetchall()"
   ]
  },
  {
   "cell_type": "markdown",
   "metadata": {},
   "source": [
    "## Level Up: Display the Number of Products each Employee Has sold"
   ]
  },
  {
   "cell_type": "code",
   "execution_count": null,
   "metadata": {},
   "outputs": [],
   "source": [
    "#Your code here"
   ]
  },
  {
   "cell_type": "markdown",
   "metadata": {},
   "source": [
    "## Summary"
   ]
  },
  {
   "cell_type": "markdown",
   "metadata": {},
   "source": [
    "Congrats! You now know how to use Join statements, along with leveraging your foreign keys knowledge!"
   ]
  }
 ],
 "metadata": {
  "kernelspec": {
   "display_name": "Python 3",
   "language": "python",
   "name": "python3"
  },
  "language_info": {
   "codemirror_mode": {
    "name": "ipython",
    "version": 3
   },
   "file_extension": ".py",
   "mimetype": "text/x-python",
   "name": "python",
   "nbconvert_exporter": "python",
   "pygments_lexer": "ipython3",
   "version": "3.6.6"
  }
 },
 "nbformat": 4,
 "nbformat_minor": 2
}
